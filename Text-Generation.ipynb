{
 "cells": [
  {
   "cell_type": "code",
   "execution_count": null,
   "metadata": {},
   "outputs": [],
   "source": [
    "# Read in the corpus, including punctuation!\n",
    "import pickle\n",
    "import random\n",
    "import glob\n",
    "import re\n",
    "import pandas as pd\n",
    "import numpy as np\n",
    "import matplotlib.pyplot as plt\n",
    "from statistics import mean\n",
    "from collections import Counter\n",
    "from textblob import TextBlob\n",
    "\n",
    "\n",
    "# Read ALL data from folders\n",
    "\n",
    "path_list = glob.glob(\"Data/*\")\n",
    "\n",
    "names =[]\n",
    "for path in path_list:\n",
    "    path = path.replace('Data\\\\','')\n",
    "    names.append(path)\n",
    "    \n",
    "data_ganeshaspeaks = {}\n",
    "data_horoscope = {}\n",
    "data_astrology = {}\n",
    "data_astrostyle = {}\n",
    "\n",
    "horoscopes = ['aries', 'taurus', 'gemini', 'cancer', 'leo', 'virgo', 'libra', 'scorpio', 'sagittarius', 'capricorn', 'aquarius', 'pisces']\n",
    "\n",
    "\n",
    "for i, c in enumerate(horoscopes):\n",
    "    ganesha = []\n",
    "    horoscope = []\n",
    "    astrology = []\n",
    "    astrostyle = []\n",
    "    for j in range(0, len(names)):\n",
    "        with open(\"Data/\" + names[j] + \"/ganeshaspeaks.com/\" + c + \".txt\", \"rb\") as file:\n",
    "            temp1 = pickle.load(file)\n",
    "            ganesha.append(temp1[1])\n",
    "            data_ganeshaspeaks[c] = ganesha\n",
    "        with open(\"Data/\" + names[j] + \"/horoscope.com/\" + c + \".txt\", \"rb\") as file:\n",
    "            temp2 = pickle.load(file)\n",
    "            horoscope.append(temp2[0])\n",
    "            data_horoscope[c] = horoscope\n",
    "        with open(\"Data/\" + names[j] + \"/astrology.com/\" + c + \".txt\", \"rb\") as file:\n",
    "            temp3 = pickle.load(file)\n",
    "            astrology.append(temp3[0])\n",
    "            data_astrology[c] = astrology\n",
    "        with open(\"Data/\" + names[j] + \"/astrostyle.com/\" + c + \".txt\", \"rb\") as file:\n",
    "            temp4 = pickle.load(file)\n",
    "            astrostyle.append(temp4[0])\n",
    "            data_astrostyle[c] = astrostyle\n"
   ]
  },
  {
   "cell_type": "code",
   "execution_count": null,
   "metadata": {},
   "outputs": [],
   "source": [
    "#key: horoscopes, value: string format for data_all \n",
    "\n",
    "def listToString(s):  \n",
    "    \n",
    "    # initialize an empty string \n",
    "    str1 = \"\"  \n",
    "    \n",
    "    # traverse in the string   \n",
    "    res = [''.join(ele) for ele in s] \n",
    "    for ele in res:  \n",
    "        str1 += ele   \n",
    "    \n",
    "    # return string   \n",
    "    return str1  \n",
    "\n",
    "for i, h in enumerate(horoscopes):\n",
    "    data_ganeshaspeaks[h] = listToString(data_ganeshaspeaks[h])\n",
    "    data_horoscope[h] = listToString(data_horoscope[h])\n",
    "    data_astrology[h] = listToString(data_astrology[h])\n",
    "    data_astrostyle[h] = listToString(data_astrostyle[h])\n"
   ]
  },
  {
   "cell_type": "code",
   "execution_count": null,
   "metadata": {},
   "outputs": [],
   "source": [
    "# creates a table with frequencies\n",
    "def generateTable(data):\n",
    "    \n",
    "    T = {}\n",
    "    data = data.split()\n",
    "    for i in range(len(data)-1):\n",
    "        X = data[i]\n",
    "        Y = data[i+1]\n",
    "        #print(\"X  %s and Y %s  \" %(X,Y))\n",
    "        \n",
    "        if T.get(X) is None:\n",
    "            T[X] = {}\n",
    "            T[X][Y] = 1\n",
    "        else:\n",
    "            if T[X].get(Y) is None:\n",
    "                T[X][Y] = 1\n",
    "            else:\n",
    "                T[X][Y] += 1\n",
    "    \n",
    "    return T\n"
   ]
  },
  {
   "cell_type": "code",
   "execution_count": null,
   "metadata": {},
   "outputs": [],
   "source": [
    "# converts freqeuncies to probabilitys\n",
    "def convertFrequencies(T):     \n",
    "    for i in T.keys():\n",
    "        sum_values = float(sum(T[i].values()))\n",
    "        for k in T[i].keys():\n",
    "            T[i][k] = T[i][k]/sum_values\n",
    "                \n",
    "    return T\n"
   ]
  },
  {
   "cell_type": "code",
   "execution_count": null,
   "metadata": {},
   "outputs": [],
   "source": [
    "# creats model by using generateTable() and convertFrequencies methods \n",
    "def MarkovChain(text):\n",
    "    T = generateTable(text)\n",
    "    T = convertFrequencies(T)\n",
    "    return T"
   ]
  },
  {
   "cell_type": "code",
   "execution_count": null,
   "metadata": {},
   "outputs": [],
   "source": [
    "def sample_next(word,model):\n",
    " \n",
    "    if model.get(word) is None:\n",
    "        return \" \"\n",
    "    possible_words = list(model[word].keys())\n",
    "    possible_values = list(model[word].values())\n",
    " \n",
    "    return np.random.choice(possible_words,p=possible_values)"
   ]
  },
  {
   "cell_type": "code",
   "execution_count": null,
   "metadata": {},
   "outputs": [],
   "source": [
    "# generates texts that has length maxLen\n",
    "def generateText(model, maxLen=15):\n",
    "    \n",
    "    starting_sent = random.choice(list(model.keys()))\n",
    "    word1 = starting_sent\n",
    "    sentence = word1.capitalize()\n",
    "    ctx = starting_sent\n",
    "    \n",
    "    for ix in range(maxLen-1):\n",
    "        next_prediction = sample_next(ctx,model)\n",
    "        sentence += ' ' + next_prediction\n",
    "        ctx = next_prediction\n",
    "    \n",
    "    return sentence"
   ]
  },
  {
   "cell_type": "code",
   "execution_count": null,
   "metadata": {},
   "outputs": [],
   "source": [
    "texts = {}\n",
    "models = {}\n",
    "stopWords = ['Ganesha', 'Jan', 'Dec']\n",
    "  \n",
    "for i, h in enumerate(horoscopes):\n",
    "    texts[h]= data_ganeshaspeaks[h] + data_horoscope[h] + data_astrology[h] + data_astrostyle[h]\n",
    "    texts[h] = texts[h].replace('\\n',' ')\n",
    "    texts[h] = texts[h].replace('\\t',' ')\n",
    "    texts[h] = texts[h].replace('“', '')\n",
    "    texts[h] = texts[h].replace('”', '')\n",
    "    texts[h] = texts[h].replace('(', '')\n",
    "    texts[h] = texts[h].replace(')', '')\n",
    "    texts[h] = texts[h].replace('-', '')\n",
    "    texts[h] = texts[h].replace('—', '')\n",
    "    texts[h] = texts[h].replace(':', '')\n",
    "    texts[h] = re.sub(r'[0-9]+', '', texts[h])\n",
    "\n",
    "    for spaced in ['.',',','!','?']:\n",
    "        texts[h] = texts[h].replace(spaced, ' {0} '.format(spaced))\n",
    "        \n",
    "    text_words = texts[h].split()\n",
    "\n",
    "    resultwords  = [word for word in text_words if word not in stopWords]\n",
    "    texts[h] = ' '.join(resultwords)\n",
    "    \n",
    "    models[h] = MarkovChain(texts[h])"
   ]
  },
  {
   "cell_type": "code",
   "execution_count": null,
   "metadata": {},
   "outputs": [],
   "source": [
    "#Counter(texts['taurus'].split()).most_common()"
   ]
  },
  {
   "cell_type": "code",
   "execution_count": null,
   "metadata": {},
   "outputs": [],
   "source": [
    "# for multiple generation for all the horoscopes\n",
    "def mult_generation(models, number):\n",
    "    final_texts = {}\n",
    "\n",
    "    for i, h in enumerate(horoscopes):\n",
    "        maxLen = random.randint(50, 150) # text lengths will range from 50 to 150\n",
    "        final_texts[h] = [] \n",
    "        for j in range(0, testNumber):\n",
    "            final_texts[h].append(generateText(models[h], maxLen))\n",
    "        \n",
    "    return final_texts"
   ]
  },
  {
   "cell_type": "code",
   "execution_count": null,
   "metadata": {},
   "outputs": [],
   "source": [
    "# Returns sentiment score list\n",
    "def sentiment_analysis(dic, testNumber):\n",
    "    scores = []\n",
    "    for i, h in enumerate(horoscopes):\n",
    "        scores.append([])\n",
    "        for j in range(0,testNumber):\n",
    "            pol =  TextBlob(dic[h][j]).sentiment.polarity\n",
    "            scores[i].append(pol)\n",
    "    return scores"
   ]
  },
  {
   "cell_type": "code",
   "execution_count": null,
   "metadata": {},
   "outputs": [],
   "source": [
    "# generate testNumber*interpretation of every horoscope and calculate sentiment scores all of them\n",
    "testNumber = 250\n",
    "final_texts_list = mult_generation(models, testNumber)\n",
    "sentimentScores = sentiment_analysis(final_texts_list, testNumber)"
   ]
  },
  {
   "cell_type": "code",
   "execution_count": null,
   "metadata": {},
   "outputs": [],
   "source": [
    "# calculate average sentiment scores of every horoscope\n",
    "avr_sentimentScores = []\n",
    "for i in range(0, 12):\n",
    "    avr_sentimentScores.append(mean(sentimentScores[i]))\n",
    "avr_sentimentScores"
   ]
  },
  {
   "cell_type": "code",
   "execution_count": null,
   "metadata": {},
   "outputs": [],
   "source": [
    "# plot of average scores\n",
    "plt.plot(avr_sentimentScores, alpha=0.9, color='orange')\n",
    "\n",
    "# Labeling the X-axis \n",
    "plt.xlabel('Horoscopes') \n",
    "# Labeling the Y-axis \n",
    "plt.ylabel('Sentiment Score') \n",
    "# Give a title to the graph\n",
    "plt.title('Sentiment Scores of Generated Interpretations')\n",
    "plt.xticks(np.arange(12),('aries', 'taurus', 'gemini', 'cancer', 'leo', 'virgo', 'libra', 'scorpio', 'sagittarius', 'capricorn', 'aquarius', 'pisces'), rotation= 45)\n",
    "\n",
    " \n",
    "plt.show()"
   ]
  },
  {
   "cell_type": "code",
   "execution_count": null,
   "metadata": {},
   "outputs": [],
   "source": [
    "print (generateText(models['aquarius'], maxLen=50))"
   ]
  },
  {
   "cell_type": "code",
   "execution_count": null,
   "metadata": {},
   "outputs": [],
   "source": []
  },
  {
   "cell_type": "code",
   "execution_count": null,
   "metadata": {},
   "outputs": [],
   "source": []
  }
 ],
 "metadata": {
  "kernelspec": {
   "display_name": "Python 3",
   "language": "python",
   "name": "python3"
  },
  "language_info": {
   "codemirror_mode": {
    "name": "ipython",
    "version": 3
   },
   "file_extension": ".py",
   "mimetype": "text/x-python",
   "name": "python",
   "nbconvert_exporter": "python",
   "pygments_lexer": "ipython3",
   "version": "3.8.3"
  }
 },
 "nbformat": 4,
 "nbformat_minor": 4
}
