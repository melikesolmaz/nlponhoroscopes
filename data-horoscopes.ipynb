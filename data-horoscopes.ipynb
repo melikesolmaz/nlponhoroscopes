{
 "cells": [
  {
   "cell_type": "code",
   "execution_count": null,
   "metadata": {},
   "outputs": [],
   "source": [
    "import requests\n",
    "import pickle\n",
    "import re\n",
    "import string\n",
    "import pandas as pd\n",
    "from bs4 import BeautifulSoup\n",
    "from sklearn.feature_extraction.text import CountVectorizer\n",
    "\n",
    "# Scrapes transcript data from horoscope.com\n",
    "def url_to_transcript_horoscope(url):\n",
    "    headers = {'User-Agent': 'Mozilla/5.0 (Windows NT 10.0; Win64; x64) AppleWebKit/537.36 (KHTML, like Gecko) Chrome/86.0.4240.183 Safari/537.36'}\n",
    "    page = requests.get(url,headers=headers).text\n",
    "    soup = BeautifulSoup(page, \"lxml\")\n",
    "    text = [p.text for p in soup.find(class_=\"main-horoscope\").find_all('p')]\n",
    "    return text\n",
    "\n",
    "# Scrapes transcript data from astrology.com\n",
    "def url_to_transcript_astrology(url):\n",
    "    headers = {'User-Agent': 'Mozilla/5.0 (Windows NT 10.0; Win64; x64) AppleWebKit/537.36 (KHTML, like Gecko) Chrome/86.0.4240.183 Safari/537.36'}\n",
    "    page = requests.get(url,headers=headers).text\n",
    "    soup = BeautifulSoup(page, \"lxml\")\n",
    "    text = [p.text for p in soup.find(class_=\"horoscope-main grid grid-right-sidebar primis-rr\").find_all('p')]\n",
    "    return text\n",
    "\n",
    "# Scrapes transcript data from astrostyle.com\n",
    "def url_to_transcript_astrostyle(url):\n",
    "    headers = {'User-Agent': 'Mozilla/5.0 (Windows NT 10.0; Win64; x64) AppleWebKit/537.36 (KHTML, like Gecko) Chrome/86.0.4240.183 Safari/537.36'}\n",
    "    page = requests.get(url,headers=headers).text\n",
    "    soup = BeautifulSoup(page, \"lxml\")\n",
    "    text = [p.text for p in soup.find(class_=\"horoscope-content\").find_all('p')]\n",
    "    return text\n",
    "\n",
    "# Scrapes transcript data from ganeshaspeaks.com\n",
    "def url_to_transcript_ganeshaspeaks(url):\n",
    "    headers = {'User-Agent': 'Mozilla/5.0 (Windows NT 10.0; Win64; x64) AppleWebKit/537.36 (KHTML, like Gecko) Chrome/86.0.4240.183 Safari/537.36'}\n",
    "    page = requests.get(url,headers=headers).text\n",
    "    soup = BeautifulSoup(page, \"lxml\")\n",
    "    text = [p.text for p in soup.find(class_=\"row card-padding-20 container-fluid-xs margin-bottom-xs-0\").find_all('p')]\n",
    "    return text\n",
    "\n",
    "\n",
    "# URLs of transcripts in scope\n",
    "urls_horoscope = ['https://www.horoscope.com/us/horoscopes/general/horoscope-general-daily-today.aspx?sign=1',\n",
    "       'https://www.horoscope.com/us/horoscopes/general/horoscope-general-daily-today.aspx?sign=2',\n",
    "       'https://www.horoscope.com/us/horoscopes/general/horoscope-general-daily-today.aspx?sign=3',\n",
    "       'https://www.horoscope.com/us/horoscopes/general/horoscope-general-daily-today.aspx?sign=4',\n",
    "       'https://www.horoscope.com/us/horoscopes/general/horoscope-general-daily-today.aspx?sign=5',\n",
    "       'https://www.horoscope.com/us/horoscopes/general/horoscope-general-daily-today.aspx?sign=6',\n",
    "       'https://www.horoscope.com/us/horoscopes/general/horoscope-general-daily-today.aspx?sign=7',\n",
    "       'https://www.horoscope.com/us/horoscopes/general/horoscope-general-daily-today.aspx?sign=8',\n",
    "       'https://www.horoscope.com/us/horoscopes/general/horoscope-general-daily-today.aspx?sign=9',\n",
    "       'https://www.horoscope.com/us/horoscopes/general/horoscope-general-daily-today.aspx?sign=10',\n",
    "       'https://www.horoscope.com/us/horoscopes/general/horoscope-general-daily-today.aspx?sign=11',\n",
    "       'https://www.horoscope.com/us/horoscopes/general/horoscope-general-daily-today.aspx?sign=12']\n",
    "\n",
    "urls_astrology = ['https://www.astrology.com/horoscope/daily/aries.html',\n",
    "                 'https://www.astrology.com/horoscope/daily/taurus.html',\n",
    "                 'https://www.astrology.com/horoscope/daily/gemini.html',\n",
    "                 'https://www.astrology.com/horoscope/daily/cancer.html',\n",
    "                 'https://www.astrology.com/horoscope/daily/leo.html',\n",
    "                 'https://www.astrology.com/horoscope/daily/virgo.html',\n",
    "                 'https://www.astrology.com/horoscope/daily/libra.html',\n",
    "                 'https://www.astrology.com/horoscope/daily/scorpio.html',\n",
    "                 'https://www.astrology.com/horoscope/daily/sagittarius.html',\n",
    "                 'https://www.astrology.com/horoscope/daily/capricorn.html',\n",
    "                 'https://www.astrology.com/horoscope/daily/aquarius.html',\n",
    "                 'https://www.astrology.com/horoscope/daily/pisces.html']\n",
    "\n",
    "urls_astrostyle = ['https://astrostyle.com/horoscopes/daily/aries/',\n",
    "                 'https://astrostyle.com/horoscopes/daily/taurus/',\n",
    "                 'https://astrostyle.com/horoscopes/daily/gemini/',\n",
    "                 'https://astrostyle.com/horoscopes/daily/cancer/',\n",
    "                 'https://astrostyle.com/horoscopes/daily/leo/',\n",
    "                 'https://astrostyle.com/horoscopes/daily/virgo/',\n",
    "                 'https://astrostyle.com/horoscopes/daily/libra/',\n",
    "                 'https://astrostyle.com/horoscopes/daily/scorpio/',\n",
    "                 'https://astrostyle.com/horoscopes/daily/sagittarius/',\n",
    "                 'https://astrostyle.com/horoscopes/daily/capricorn/',\n",
    "                 'https://astrostyle.com/horoscopes/daily/aquarius/',\n",
    "                 'https://astrostyle.com/horoscopes/daily/pisces/']\n",
    "\n",
    "urls_ganeshaspeaks = ['https://www.ganeshaspeaks.com/horoscopes/daily-horoscope/aries/',\n",
    "                 'https://www.ganeshaspeaks.com/horoscopes/daily-horoscope/taurus/',\n",
    "                 'https://www.ganeshaspeaks.com/horoscopes/daily-horoscope/gemini/',\n",
    "                 'https://www.ganeshaspeaks.com/horoscopes/daily-horoscope/cancer/',\n",
    "                 'https://www.ganeshaspeaks.com/horoscopes/daily-horoscope/leo/',\n",
    "                 'https://www.ganeshaspeaks.com/horoscopes/daily-horoscope/virgo/',\n",
    "                 'https://www.ganeshaspeaks.com/horoscopes/daily-horoscope/libra/',\n",
    "                 'https://www.ganeshaspeaks.com/horoscopes/daily-horoscope/scorpio/',\n",
    "                 'https://www.ganeshaspeaks.com/horoscopes/daily-horoscope/sagittarius/',\n",
    "                 'https://www.ganeshaspeaks.com/horoscopes/daily-horoscope/capricorn/',\n",
    "                 'https://www.ganeshaspeaks.com/horoscopes/daily-horoscope/aquarius/',\n",
    "                 'https://www.ganeshaspeaks.com/horoscopes/daily-horoscope/pisces/']\n",
    "\n",
    "# Horoscope names\n",
    "horoscopes = ['aries', 'taurus', 'gemini', 'cancer', 'leo', 'virgo', 'libra', 'scorpio', 'sagittarius', 'capricorn', 'aquarius', 'pisces']\n"
   ]
  },
  {
   "cell_type": "code",
   "execution_count": null,
   "metadata": {},
   "outputs": [],
   "source": [
    "# Actually request transcripts\n",
    "\n",
    "transcripts_horoscope = [url_to_transcript_horoscope(u) for u in urls_horoscope]\n",
    "\n",
    "transcripts_astrology = [url_to_transcript_astrology(u) for u in urls_astrology]\n",
    "\n",
    "transcripts_astrostyle = [url_to_transcript_astrostyle(u) for u in urls_astrostyle]\n",
    "\n",
    "transcripts_ganeshaspeaks = [url_to_transcript_ganeshaspeaks(u) for u in urls_ganeshaspeaks]\n",
    "\n",
    "\n"
   ]
  },
  {
   "cell_type": "code",
   "execution_count": null,
   "metadata": {},
   "outputs": [],
   "source": [
    "!mkdir horoscope.com\n",
    "!mkdir astrology.com\n",
    "!mkdir astrostyle.com\n",
    "!mkdir ganeshaspeaks.com\n",
    "!mkdir all_together\n",
    "\n",
    "for i, c in enumerate(horoscopes):\n",
    "    with open(\"horoscope.com/\" + c + \".txt\", \"wb\") as file:\n",
    "        pickle.dump(transcripts_horoscope[i], file)\n",
    "    with open(\"astrology.com/\" + c + \".txt\", \"wb\") as file:\n",
    "        pickle.dump(transcripts_astrology[i], file)\n",
    "    with open(\"astrostyle.com/\" + c + \".txt\", \"wb\") as file:\n",
    "        pickle.dump(transcripts_astrostyle[i], file)\n",
    "    with open(\"ganeshaspeaks.com/\" + c + \".txt\", \"wb\") as file:\n",
    "        pickle.dump(transcripts_ganeshaspeaks[i], file)\n",
    "    with open(\"all_together/\" + c + \".txt\", \"ab+\") as file:\n",
    "        pickle.dump(transcripts_horoscope[i], file)\n",
    "        pickle.dump(transcripts_astrology[i], file)\n",
    "        pickle.dump(transcripts_astrostyle[i], file)\n",
    "        pickle.dump(transcripts_ganeshaspeaks[i], file)\n",
    "\n",
    "        "
   ]
  },
  {
   "cell_type": "code",
   "execution_count": null,
   "metadata": {},
   "outputs": [],
   "source": [
    "# Load pickled files\n",
    "data_ganeshaspeaks = {}\n",
    "data_horoscope = {}\n",
    "data_astrology = {}\n",
    "data_astrostyle = {}\n",
    "data_all = {}\n",
    "\n",
    "#UPDATE after progress report : Unnecessary sentences were not taken, only the interpretations \n",
    "for i, c in enumerate(horoscopes):\n",
    "    ganesha = []\n",
    "    horoscope = []\n",
    "    astrology = []\n",
    "    astrostyle = []\n",
    "    file_all = []\n",
    "    with open(\"ganeshaspeaks.com/\" + c + \".txt\", \"rb\") as file:\n",
    "        temp1 = pickle.load(file)\n",
    "        ganesha.append(temp1[0])\n",
    "        ganesha.append(temp1[1])\n",
    "        data_ganeshaspeaks[c] = ganesha    \n",
    "    with open(\"horoscope.com/\" + c + \".txt\", \"rb\") as file:\n",
    "        temp2 = pickle.load(file)\n",
    "        horoscope.append(temp2[0])\n",
    "        data_horoscope[c] = horoscope    \n",
    "    with open(\"astrology.com/\" + c + \".txt\", \"rb\") as file:\n",
    "        temp3 = pickle.load(file)\n",
    "        astrology.append(temp3[0])\n",
    "        data_astrology[c] = astrology\n",
    "    with open(\"astrostyle.com/\" + c + \".txt\", \"rb\") as file:\n",
    "        temp4 = pickle.load(file)\n",
    "        astrostyle.append(temp4[0])\n",
    "        data_astrostyle[c] = astrostyle\n",
    "    with open(\"all_together/\" + c + \".txt\", \"rb\") as file:\n",
    "        # noticed that last in first out\n",
    "        # for every pickle.dump, pickle.load necessary\n",
    "        file_all.append(pickle.load(file)[0]) #astrostyle\n",
    "        file_all.append(pickle.load(file)[0]) #astrology\n",
    "        file_all.append(pickle.load(file)[0]) #horoscope\n",
    "        file_all.append(pickle.load(file)[1]) #ganeshaspeaks\n",
    "        data_all[c] = file_all"
   ]
  },
  {
   "cell_type": "code",
   "execution_count": null,
   "metadata": {},
   "outputs": [],
   "source": [
    "#key: horoscopes, value: string format for data_all \n",
    "\n",
    "def listToString(s):  \n",
    "    \n",
    "    # initialize an empty string \n",
    "    str1 = \"\"  \n",
    "    \n",
    "    # traverse in the string   \n",
    "    res = [''.join(ele) for ele in s] \n",
    "    for ele in res:  \n",
    "        str1 += ele   \n",
    "    \n",
    "    # return string   \n",
    "    return str1  \n",
    "\n",
    "for i, c in enumerate(horoscopes):\n",
    "    data_all[c] = [listToString(data_all[c])]\n",
    "    "
   ]
  },
  {
   "cell_type": "code",
   "execution_count": null,
   "metadata": {},
   "outputs": [],
   "source": [
    "# Double check to make sure data has been loaded properly\n",
    "data_ganeshaspeaks.keys()"
   ]
  },
  {
   "cell_type": "code",
   "execution_count": null,
   "metadata": {},
   "outputs": [],
   "source": [
    "data_horoscope.keys()"
   ]
  },
  {
   "cell_type": "code",
   "execution_count": null,
   "metadata": {},
   "outputs": [],
   "source": [
    "data_astrology.keys()"
   ]
  },
  {
   "cell_type": "code",
   "execution_count": null,
   "metadata": {},
   "outputs": [],
   "source": [
    "data_all"
   ]
  },
  {
   "cell_type": "code",
   "execution_count": null,
   "metadata": {},
   "outputs": [],
   "source": [
    "data_horoscope['aquarius']"
   ]
  },
  {
   "cell_type": "code",
   "execution_count": null,
   "metadata": {},
   "outputs": [],
   "source": [
    "data_ganeshaspeaks['libra']"
   ]
  },
  {
   "cell_type": "code",
   "execution_count": null,
   "metadata": {},
   "outputs": [],
   "source": [
    "data_astrology['libra']"
   ]
  },
  {
   "cell_type": "code",
   "execution_count": null,
   "metadata": {},
   "outputs": [],
   "source": [
    "next(iter(data_astrostyle.keys()))"
   ]
  },
  {
   "cell_type": "code",
   "execution_count": null,
   "metadata": {},
   "outputs": [],
   "source": [
    "next(iter(data_all.values()))"
   ]
  },
  {
   "cell_type": "code",
   "execution_count": null,
   "metadata": {},
   "outputs": [],
   "source": [
    "#key: horoscopes, value: string format\n",
    "def combine_text(list_of_text):\n",
    "    '''Takes a list of text and combines them into one large chunk of text.'''\n",
    "    combined_text = ' '.join(list_of_text)\n",
    "    return combined_text"
   ]
  },
  {
   "cell_type": "code",
   "execution_count": null,
   "metadata": {},
   "outputs": [],
   "source": [
    "data_horoscope_combined = {key: [combine_text(value)] for (key, value) in data_horoscope.items()}\n",
    "data_ganeshaspeaks_combined = {key: [combine_text(value)] for (key, value) in data_ganeshaspeaks.items()}\n",
    "data_astrology_combined = {key: [combine_text(value)] for (key, value) in data_astrology.items()}\n",
    "data_astrostyle_combined = {key: [combine_text(value)] for (key, value) in data_astrostyle.items()}\n",
    "data_all_combined = data_all\n"
   ]
  },
  {
   "cell_type": "code",
   "execution_count": null,
   "metadata": {},
   "outputs": [],
   "source": [
    "pd.set_option('max_colwidth',150)\n",
    "\n",
    "data_horoscope_df = pd.DataFrame.from_dict(data_horoscope_combined).transpose()\n",
    "data_ganeshaspeaks_df = pd.DataFrame.from_dict(data_ganeshaspeaks_combined).transpose()\n",
    "data_astrology_df = pd.DataFrame.from_dict(data_astrology_combined).transpose()\n",
    "data_astrostyle_df = pd.DataFrame.from_dict(data_astrostyle_combined).transpose()\n",
    "data_all_df = pd.DataFrame.from_dict(data_all_combined).transpose()\n",
    "\n",
    "data_horoscope_df.columns = ['interpretation']\n",
    "data_ganeshaspeaks_df.columns = ['interpretation']\n",
    "data_astrology_df.columns = ['interpretation']\n",
    "data_astrostyle_df.columns = ['interpretation']\n",
    "data_all_df.columns = ['interpretation']\n",
    "\n",
    "# data_df = data_df.sort_index()\n",
    "data_horoscope_df"
   ]
  },
  {
   "cell_type": "code",
   "execution_count": null,
   "metadata": {},
   "outputs": [],
   "source": [
    "data_ganeshaspeaks_df"
   ]
  },
  {
   "cell_type": "code",
   "execution_count": null,
   "metadata": {},
   "outputs": [],
   "source": [
    "data_astrology_df"
   ]
  },
  {
   "cell_type": "code",
   "execution_count": null,
   "metadata": {},
   "outputs": [],
   "source": [
    "data_astrostyle_df"
   ]
  },
  {
   "cell_type": "code",
   "execution_count": null,
   "metadata": {},
   "outputs": [],
   "source": [
    "data_astrology_df.interpretation.loc['aries']"
   ]
  },
  {
   "cell_type": "code",
   "execution_count": null,
   "metadata": {},
   "outputs": [],
   "source": [
    "# Apply a round of text cleaning techniques\n",
    "def clean_text_round1(text):\n",
    "    '''Make text lowercase, remove text in square brackets, remove punctuation and remove words containing numbers.'''\n",
    "    text = text.lower()\n",
    "    text = re.sub('\\[.*?\\]', '', text)\n",
    "    text = re.sub('\\[.*?\\]', '', text)\n",
    "    text = re.sub('[%s]' % re.escape(string.punctuation), '', text)\n",
    "    text = re.sub('[‘’“”…]', '', text)\n",
    "    text = re.sub('\\n', '', text)\n",
    "    text = re.sub('\\w*\\d\\w*', '', text)\n",
    "    return text\n",
    "\n",
    "round1 = lambda x: clean_text_round1(x)"
   ]
  },
  {
   "cell_type": "code",
   "execution_count": null,
   "metadata": {},
   "outputs": [],
   "source": [
    "data_horoscope_clean = pd.DataFrame(data_horoscope_df.interpretation.apply(round1))\n",
    "data_ganeshaspeaks_clean = pd.DataFrame(data_ganeshaspeaks_df.interpretation.apply(round1))\n",
    "data_astrology_clean = pd.DataFrame(data_astrology_df.interpretation.apply(round1))\n",
    "data_astrostyle_clean = pd.DataFrame(data_astrostyle_df.interpretation.apply(round1))\n",
    "data_all_clean = pd.DataFrame(data_all_df.interpretation.apply(round1))\n",
    "\n",
    "\n"
   ]
  },
  {
   "cell_type": "code",
   "execution_count": null,
   "metadata": {},
   "outputs": [],
   "source": [
    "data_ganeshaspeaks_clean "
   ]
  },
  {
   "cell_type": "code",
   "execution_count": null,
   "metadata": {},
   "outputs": [],
   "source": [
    "data_horoscope_df['horoscopes'] = horoscopes\n",
    "data_ganeshaspeaks_df['horoscopes'] = horoscopes\n",
    "data_astrology_df['horoscopes'] = horoscopes\n",
    "data_astrostyle_df['horoscopes'] = horoscopes\n",
    "data_all_df['horoscopes'] = horoscopes\n",
    "\n"
   ]
  },
  {
   "cell_type": "code",
   "execution_count": null,
   "metadata": {},
   "outputs": [],
   "source": [
    "# pickle\n",
    "data_horoscope_df.to_pickle(\"horoscopecorpus.pkl\")\n",
    "data_ganeshaspeaks_df.to_pickle(\"ganeshaspeakscorpus.pkl\")\n",
    "data_astrology_df.to_pickle(\"astrologycorpus.pkl\")\n",
    "data_astrostyle_df.to_pickle(\"astrostylecorpus.pkl\")\n",
    "data_all_df.to_pickle(\"allcorpus.pkl\")\n",
    "\n",
    "# csv files \n",
    "data_horoscope_df.to_csv(\"horoscopecsv.txt\")\n",
    "data_ganeshaspeaks_df.to_csv(\"ganeshaspeakscsv.txt\")\n",
    "data_astrology_df.to_csv(\"astrologycsv.txt\")\n",
    "data_astrostyle_df.to_csv(\"astrostylecsv.txt\")\n",
    "data_all_df.to_csv(\"allcsv.txt\")\n",
    "\n",
    "data_horoscope_clean.to_pickle(\"horoscopecorpus_clean.pkl\")\n",
    "data_ganeshaspeaks_clean.to_pickle(\"ganeshaspeakscorpus_clean.pkl\")\n",
    "data_astrology_clean.to_pickle(\"astrologycorpus_clean.pkl\")\n",
    "data_astrostyle_clean.to_pickle(\"astrostylecorpus_clean.pkl\")\n",
    "data_all_clean.to_pickle(\"allcorpus_clean.pkl\")"
   ]
  },
  {
   "cell_type": "code",
   "execution_count": null,
   "metadata": {},
   "outputs": [],
   "source": [
    "#create a document-term matrix using CountVectorizer\n",
    "\n",
    "cv = CountVectorizer(stop_words='english')\n",
    "data_horoscope_cv = cv.fit_transform(data_horoscope_clean.interpretation)\n",
    "data_horoscope_dtm = pd.DataFrame(data_horoscope_cv.toarray(), columns=cv.get_feature_names())\n",
    "data_horoscope_dtm.index = data_horoscope_clean.index\n",
    "data_horoscope_dtm.to_pickle(\"horoscopedtm.pkl\")"
   ]
  },
  {
   "cell_type": "code",
   "execution_count": null,
   "metadata": {},
   "outputs": [],
   "source": [
    "data_ganeshaspeaks_cv = cv.fit_transform(data_ganeshaspeaks_clean.interpretation)\n",
    "data_ganeshaspeaks_dtm = pd.DataFrame(data_ganeshaspeaks_cv.toarray(), columns=cv.get_feature_names())\n",
    "data_ganeshaspeaks_dtm.index = data_ganeshaspeaks_clean.index\n",
    "data_ganeshaspeaks_dtm.to_pickle(\"ganeshaspeaksdtm.pkl\")\n"
   ]
  },
  {
   "cell_type": "code",
   "execution_count": null,
   "metadata": {},
   "outputs": [],
   "source": [
    "data_ganeshaspeaks_dtm"
   ]
  },
  {
   "cell_type": "code",
   "execution_count": null,
   "metadata": {},
   "outputs": [],
   "source": [
    "data_astrology_cv = cv.fit_transform(data_astrology_clean.interpretation)\n",
    "data_astrology_dtm = pd.DataFrame(data_astrology_cv.toarray(), columns=cv.get_feature_names())\n",
    "data_astrology_dtm.index = data_astrology_clean.index\n",
    "data_astrology_dtm.to_pickle(\"astrologydtm.pkl\")\n",
    "data_astrology_dtm"
   ]
  },
  {
   "cell_type": "code",
   "execution_count": null,
   "metadata": {},
   "outputs": [],
   "source": [
    "data_astrostyle_cv = cv.fit_transform(data_astrostyle_clean.interpretation)\n",
    "data_astrostyle_dtm = pd.DataFrame(data_astrostyle_cv.toarray(), columns=cv.get_feature_names())\n",
    "data_astrostyle_dtm.index = data_astrostyle_clean.index\n",
    "data_astrostyle_dtm.to_pickle(\"astrostyledtm.pkl\")\n",
    "data_astrostyle_dtm"
   ]
  },
  {
   "cell_type": "code",
   "execution_count": null,
   "metadata": {},
   "outputs": [],
   "source": [
    "data_all_cv = cv.fit_transform(data_all_clean.interpretation)\n",
    "data_all_dtm = pd.DataFrame(data_all_cv.toarray(), columns=cv.get_feature_names())\n",
    "data_all_dtm.index = data_all_clean.index\n",
    "data_all_dtm.to_pickle(\"alldtm.pkl\")\n",
    "data_all_dtm"
   ]
  },
  {
   "cell_type": "code",
   "execution_count": null,
   "metadata": {},
   "outputs": [],
   "source": []
  }
 ],
 "metadata": {
  "kernelspec": {
   "display_name": "Python 3",
   "language": "python",
   "name": "python3"
  },
  "language_info": {
   "codemirror_mode": {
    "name": "ipython",
    "version": 3
   },
   "file_extension": ".py",
   "mimetype": "text/x-python",
   "name": "python",
   "nbconvert_exporter": "python",
   "pygments_lexer": "ipython3",
   "version": "3.8.3"
  }
 },
 "nbformat": 4,
 "nbformat_minor": 4
}
